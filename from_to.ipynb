{
 "cells": [
  {
   "cell_type": "code",
   "execution_count": 83,
   "metadata": {},
   "outputs": [],
   "source": [
    "import os\n",
    "import pandas as pd\n",
    "import numpy as np\n",
    "import os\n",
    "import glob\n",
    "import glob2\n",
    "import pathlib\n",
    "import re\n",
    "import pyperclip\n",
    "import email\n",
    "from datetime import date, timedelta\n",
    "import winsound\n",
    "\n",
    "\n",
    "def play_sound():\n",
    "    duration = 300  # milliseconds\n",
    "    freq = 440  # Hz\n",
    "    winsound.Beep(freq, duration)\n",
    "    winsound.Beep(freq, duration)"
   ]
  },
  {
   "attachments": {},
   "cell_type": "markdown",
   "metadata": {},
   "source": [
    "### Loading dataset, creating a list of employee emails for future reference"
   ]
  },
  {
   "cell_type": "code",
   "execution_count": 58,
   "metadata": {},
   "outputs": [],
   "source": [
    "employee_names = [\n",
    "    \"Phillip Allen\", \"John Arnold\", \"harry.arora\", \"Robert Badeer\",\n",
    "    \"Susan Bailey\", \"Eric Bass\", \"Don Baughman\", \"Sally Beck\", \"Robert Benson\",\n",
    "    \"Lynn Blair\", \"Sandra Brawner\", \"Rick Buy\", \"Larry Campbell\",\n",
    "    \"Mike Carson\", \"Michelle Cash\", \"Monika Causholli\", \"Shelley Corman\",\n",
    "    \"Sean Crandall\", \"Martin Cuilla\", \"jeff_dasovich\", \"Dana Davis\",\n",
    "    \"Craig Dean\", \"David Delainey\", \"James Derrick\", \"Stacy Dickson\",\n",
    "    \"Lindy Donoho\", \"Tom Donohoe\", \"Chris Dorland\", \"Frank Ermis\",\n",
    "    \"Daren Farmer\", \"Mary Fischer\", \"John Forney\", \"Drew Fossum\", \"Lisa Gang\",\n",
    "    \"Randall Gay\", \"Tracy Geaccone\", \"Chris Germany\", \"doug.gilbert-smith\",\n",
    "    \"Darron Giron\", \"john.griffith\", \"mike.grigsby\", \"Mark Guzman\",\n",
    "    \"Mark Haedicke\", \"Mary Hain\", \"Steven Harris\", \"Rod Hayslett\",\n",
    "    \"Marie Heard\", \"Scott Hendrickson\", \"Juan Hernandez\", \"John Hodge\",\n",
    "    \"Keith Holst\", \"Stanley Horton\", \"Kevin Hyatt\", \"Dan Hyvl\", \"Tana Jones\",\n",
    "    \"Vince Kaminski\", \"Steven Kean\", \"Peter Keavey\", \"Kam Keiser\", \"Jeff King\",\n",
    "    \"Louise Kitchen\", \"Tori Kuykendall\", \"John Lavorato\", \"Kenneth Lay\",\n",
    "    \"Matthew Lenhart\", \"Andrew Lewis\", \"Eric Linder\", \"Michelle Lokay\",\n",
    "    \"Teb Lokey\", \"Phillip Love\", \"Paul Lucci\", \"mike.maggi\", \"Kay Mann\",\n",
    "    \"Thomas Martin\", \"larry.may\", \"Danny McCarty\", \"Mike McConnell\",\n",
    "    \"brad.mckay\", \"Jonathan Mckay\", \"Errol McLaughlin\", \"steven.merris\",\n",
    "    \"Albert Meyers\", \"l..mims\", \"matt.motley\", \"Scott Neal\", \"Gerald Nemec\",\n",
    "    \"Stephanie Panus\", \"Joe Parks\", \"Susan Pereira\", \"Debra Perlingiere\",\n",
    "    \"Vladi Pimenov\", \"Phillip Platter\", \"Kevin Presto\", \"Joe Quenet\",\n",
    "    \"Dutch Quigley\", \"Bill Rapp\", \"Jay Reitmeyer\", \"Cooper Richey\",\n",
    "    \"Andrea Ring\", \"Richard Ring\", \"Robin Rodrigue\", \"Benjamin Rogers\",\n",
    "    \"Kevin Ruscitti\", \"Elizabeth Sager\", \"Eric Saibi\", \"Holden Salisbury\",\n",
    "    \"Monique Sanchez\", \"Richard Sanders\", \"Diana Scholtes\",\n",
    "    \"Darrell Schoolcraft\", \"Jim Schwieger\", \"Susan Scott\", \"Cara Semperger\",\n",
    "    \"Sara Shackleton\", \"Jeffrey Shankman\", \"Richard Shapiro\", \"Hunter Shively\",\n",
    "    \"jeff.skilling\", \"Ryan Slinger\", \"Matt Smith\", \"Geir Solberg\",\n",
    "    \"steven.south\", \"Theresa Staab\", \"Carol Clair\", \"James Steffes\",\n",
    "    \"Joe Stepenovitch\", \"Chris Stokley\", \"geoff.storey\", \"Fletcher Sturm\",\n",
    "    \"Mike Swerzbin\", \"Kate Symes\", \"Mark Taylor\", \"Jane Tholt\", \"Paul Thomas\",\n",
    "    \"Judy Townsend\", \"Barry Tycholiz\", \"Kim Ward\", \"Kimberly Watson\",\n",
    "    \"Charles Weldon\", \"Greg.Whalley\", \"Stacey White\", \"Mark Whitt\",\n",
    "    \"Jason Williams\", \"bill.williams\", \"Jason Wolfe\", \"Paul Y'Barbo\",\n",
    "    \"Andy Zipper\", \"John Zufferli\"\n",
    "]\n",
    "\n",
    "employee_emails = [\n",
    "    x.lower().replace(\" \", \".\") + \"@enron.com\" for x in employee_names\n",
    "]\n",
    "ds = pd.read_csv(\"./dataset.csv\")\n",
    "pattern = \"|\".join(employee_emails)\n",
    "\n",
    "# Filtering dataframe to only contain\n",
    "# emails that are sent by any of the employees\n",
    "ds = ds[ds[\"from\"].str.contains(pattern)]\n",
    "ds[\"date\"] = pd.to_datetime(ds[\"date\"])\n",
    "min_date = ds[\"date\"].min()\n",
    "max_date = ds[\"date\"].max()\n",
    "start_week = min_date.date()\n",
    "next_two_week = start_week + timedelta(weeks=2)"
   ]
  },
  {
   "cell_type": "markdown",
   "metadata": {},
   "source": [
    "### Funcitions for sliding time window"
   ]
  },
  {
   "cell_type": "code",
   "execution_count": null,
   "metadata": {},
   "outputs": [],
   "source": [
    "def move_two_weeks(start_week, next_two_week):\n",
    "    start_week = next_two_week\n",
    "    next_two_week = next_two_week + timedelta(weeks=2)\n",
    "    return start_week, next_two_week\n",
    "\n",
    "\n",
    "def reset_weeks(start_week, next_two_week):\n",
    "    start_week = min_date.date()\n",
    "    next_two_week = start_week + timedelta(weeks=2)\n",
    "    return start_week, next_two_week"
   ]
  },
  {
   "attachments": {},
   "cell_type": "markdown",
   "metadata": {},
   "source": [
    "### Chunk dataset into periods of two weeks and save them as `.csv` locally"
   ]
  },
  {
   "cell_type": "code",
   "execution_count": 59,
   "metadata": {},
   "outputs": [
    {
     "name": "stderr",
     "output_type": "stream",
     "text": [
      "C:\\Users\\Alireza Vaezi\\AppData\\Local\\Temp\\ipykernel_30060\\1975823543.py:3: FutureWarning: Comparison of Timestamp with datetime.date is deprecated in order to match the standard library behavior. In a future version these will be considered non-comparable. Use 'ts == pd.Timestamp(date)' or 'ts.date() == date' instead.\n",
      "  while start_week < max_date:\n"
     ]
    }
   ],
   "source": [
    "start_week, next_two_week = reset_weeks(start_week, next_two_week)\n",
    "count = 0\n",
    "while start_week < max_date:\n",
    "    # print(count)\n",
    "    # print(start_week, next_two_week)\n",
    "    ss = ds[(ds[\"date\"] >= pd.to_datetime(start_week))\n",
    "            & (ds[\"date\"] < pd.to_datetime(next_two_week))]\n",
    "    start_week, next_two_week = move_two_weeks(start_week, next_two_week)\n",
    "    if ss.count()[\"id\"] > 0:\n",
    "        ss.to_csv(f\"./out/period-0000{count}.csv\")\n",
    "    count += 1"
   ]
  },
  {
   "cell_type": "markdown",
   "metadata": {},
   "source": [
    "### Loading each period and making adj-matrix for each and saving locally as numpy arrays"
   ]
  },
  {
   "cell_type": "code",
   "execution_count": 60,
   "metadata": {},
   "outputs": [],
   "source": [
    "chunk_directory = \"./out/*.csv\"\n",
    "\n",
    "all_paths = glob.glob(chunk_directory)\n",
    "period = pd.DataFrame(columns=['id', 'date', 'from', 'to', 'cc', 'bcc'])\n",
    "adj_matrix = np.zeros((148, 148), dtype=int)\n",
    "\n"
   ]
  },
  {
   "cell_type": "code",
   "execution_count": 62,
   "metadata": {},
   "outputs": [],
   "source": [
    "for i, k in enumerate(all_paths):\n",
    "    filename = k.split(\"\\\\\")[1]\n",
    "    path = \"./adj_matrices/\"\n",
    "    df = pd.read_csv(k)\n",
    "    # print(df[\"from\"].unique())\n",
    "    for _, row in df.iterrows():\n",
    "        try:\n",
    "            from_index = employee_emails.index(row['from'])\n",
    "        except Exception as e:\n",
    "            print(e, k)\n",
    "        if not from_index: continue\n",
    "        # print(from_index)\n",
    "\n",
    "        to_list = row['to'].split(',') if pd.notna(row['to']) else []\n",
    "        # print(to_list)\n",
    "        for to in to_list:\n",
    "            if to in employee_emails:\n",
    "                to_index = employee_emails.index(to)\n",
    "                adj_matrix[from_index, to_index] += 1\n",
    "                adj_matrix[to_index, from_index] += 1\n",
    "\n",
    "        adj_matrix_df = pd.DataFrame(adj_matrix,\n",
    "                                     columns=employee_emails,\n",
    "                                     index=employee_emails)\n",
    "\n",
    "        filename = filename.replace(\".csv\", \"-adj_matrix.csv\")\n",
    "        adj_matrix_df.to_csv(path + filename)\n",
    "        t = adj_matrix_df.to_numpy()\n",
    "        filename = filename.replace(\".csv\", \".npy\")\n",
    "        with open(path + filename, 'wb') as f:\n",
    "            np.save(f, t)\n"
   ]
  },
  {
   "cell_type": "code",
   "execution_count": 82,
   "metadata": {},
   "outputs": [],
   "source": [
    "play_sound()"
   ]
  }
 ],
 "metadata": {
  "kernelspec": {
   "display_name": "base",
   "language": "python",
   "name": "python3"
  },
  "language_info": {
   "codemirror_mode": {
    "name": "ipython",
    "version": 3
   },
   "file_extension": ".py",
   "mimetype": "text/x-python",
   "name": "python",
   "nbconvert_exporter": "python",
   "pygments_lexer": "ipython3",
   "version": "3.9.13"
  },
  "orig_nbformat": 4
 },
 "nbformat": 4,
 "nbformat_minor": 2
}
