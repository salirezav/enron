{
 "cells": [
  {
   "cell_type": "code",
   "execution_count": 9,
   "metadata": {},
   "outputs": [],
   "source": [
    "import os\n",
    "import pandas as pd\n",
    "import numpy as np\n",
    "import os\n",
    "import glob\n",
    "import glob2\n",
    "import pathlib\n",
    "import re\n",
    "import pyperclip\n",
    "import email\n",
    "from datetime import date, timedelta\n",
    "import winsound\n",
    "\n",
    "\n",
    "def play_sound():\n",
    "    duration = 300  # milliseconds\n",
    "    freq = 440  # Hz\n",
    "    winsound.Beep(freq, duration)\n",
    "    winsound.Beep(freq, duration)"
   ]
  },
  {
   "attachments": {},
   "cell_type": "markdown",
   "metadata": {},
   "source": [
    "### Funcitions for sliding time window\n"
   ]
  },
  {
   "attachments": {},
   "cell_type": "markdown",
   "metadata": {},
   "source": [
    "### Loading dataset, creating a list of employee emails for future reference\n"
   ]
  },
  {
   "cell_type": "code",
   "execution_count": 10,
   "metadata": {},
   "outputs": [],
   "source": [
    "employee_names = [\n",
    "    \"Phillip Allen\", \"John Arnold\", \"harry.arora\", \"Robert Badeer\", \"Susan Bailey\", \"Eric Bass\", \"Don Baughman\",\n",
    "    \"Sally Beck\", \"Robert Benson\", \"Lynn Blair\", \"Sandra Brawner\", \"Rick Buy\", \"Larry Campbell\", \"Mike Carson\",\n",
    "    \"Michelle Cash\", \"Monika Causholli\", \"Shelley Corman\", \"Sean Crandall\", \"Martin Cuilla\", \"jeff_dasovich\",\n",
    "    \"Dana Davis\", \"Craig Dean\", \"David Delainey\", \"James Derrick\", \"Stacy Dickson\", \"Lindy Donoho\", \"Tom Donohoe\",\n",
    "    \"Chris Dorland\", \"Frank Ermis\", \"Daren Farmer\", \"Mary Fischer\", \"John Forney\", \"Drew Fossum\", \"Lisa Gang\",\n",
    "    \"Randall Gay\", \"Tracy Geaccone\", \"Chris Germany\", \"doug.gilbert-smith\", \"Darron Giron\", \"john.griffith\",\n",
    "    \"mike.grigsby\", \"Mark Guzman\", \"Mark Haedicke\", \"Mary Hain\", \"Steven Harris\", \"Rod Hayslett\", \"Marie Heard\",\n",
    "    \"Scott Hendrickson\", \"Juan Hernandez\", \"John Hodge\", \"Keith Holst\", \"Stanley Horton\", \"Kevin Hyatt\", \"Dan Hyvl\",\n",
    "    \"Tana Jones\", \"Vince Kaminski\", \"Steven Kean\", \"Peter Keavey\", \"Kam Keiser\", \"Jeff King\", \"Louise Kitchen\",\n",
    "    \"Tori Kuykendall\", \"John Lavorato\", \"Kenneth Lay\", \"Matthew Lenhart\", \"Andrew Lewis\", \"Eric Linder\",\n",
    "    \"Michelle Lokay\", \"Teb Lokey\", \"Phillip Love\", \"Paul Lucci\", \"mike.maggi\", \"Kay Mann\", \"Thomas Martin\", \"larry.may\",\n",
    "    \"Danny McCarty\", \"Mike McConnell\", \"brad.mckay\", \"Jonathan Mckay\", \"Errol McLaughlin\", \"steven.merris\",\n",
    "    \"Albert Meyers\", \"l..mims\", \"matt.motley\", \"Scott Neal\", \"Gerald Nemec\", \"Stephanie Panus\", \"Joe Parks\",\n",
    "    \"Susan Pereira\", \"Debra Perlingiere\", \"Vladi Pimenov\", \"Phillip Platter\", \"Kevin Presto\", \"Joe Quenet\",\n",
    "    \"Dutch Quigley\", \"Bill Rapp\", \"Jay Reitmeyer\", \"Cooper Richey\", \"Andrea Ring\", \"Richard Ring\", \"Robin Rodrigue\",\n",
    "    \"Benjamin Rogers\", \"Kevin Ruscitti\", \"Elizabeth Sager\", \"Eric Saibi\", \"Holden Salisbury\", \"Monique Sanchez\",\n",
    "    \"Richard Sanders\", \"Diana Scholtes\", \"Darrell Schoolcraft\", \"Jim Schwieger\", \"Susan Scott\", \"Cara Semperger\",\n",
    "    \"Sara Shackleton\", \"Jeffrey Shankman\", \"Richard Shapiro\", \"Hunter Shively\", \"jeff.skilling\", \"Ryan Slinger\",\n",
    "    \"Matt Smith\", \"Geir Solberg\", \"steven.south\", \"Theresa Staab\", \"Carol Clair\", \"James Steffes\", \"Joe Stepenovitch\",\n",
    "    \"Chris Stokley\", \"geoff.storey\", \"Fletcher Sturm\", \"Mike Swerzbin\", \"Kate Symes\", \"Mark Taylor\", \"Jane Tholt\",\n",
    "    \"Paul Thomas\", \"Judy Townsend\", \"Barry Tycholiz\", \"Kim Ward\", \"Kimberly Watson\", \"Charles Weldon\", \"Greg.Whalley\",\n",
    "    \"Stacey White\", \"Mark Whitt\", \"Jason Williams\", \"bill.williams\", \"Jason Wolfe\", \"Paul Y'Barbo\", \"Andy Zipper\",\n",
    "    \"John Zufferli\"\n",
    "]\n",
    "\n",
    "employee_emails = [x.lower().replace(\" \", \".\") + \"@enron.com\" for x in employee_names]\n",
    "ds = pd.read_csv(\"./dataset.csv\")\n",
    "pattern = \"|\".join(employee_emails)\n",
    "\n",
    "# Filtering dataframe to only contain\n",
    "# emails that are sent by any of the employees\n",
    "ds = ds[ds[\"from\"].str.contains(pattern)]\n",
    "ds[\"date\"] = pd.to_datetime(ds[\"date\"])\n",
    "# min_date = ds[\"date\"].min()\n",
    "min_date = pd.to_datetime(\"1999-01-01\")\n",
    "max_date = ds[\"date\"].max()\n",
    "start_week = min_date.date()\n",
    "next_two_week = start_week + timedelta(weeks=2)"
   ]
  },
  {
   "cell_type": "code",
   "execution_count": 11,
   "metadata": {},
   "outputs": [
    {
     "data": {
      "text/plain": [
       "(Timestamp('1999-01-01 00:00:00'), Timestamp('2002-06-25 00:00:00'))"
      ]
     },
     "execution_count": 11,
     "metadata": {},
     "output_type": "execute_result"
    }
   ],
   "source": [
    "min_date, max_date\n"
   ]
  },
  {
   "cell_type": "code",
   "execution_count": 12,
   "metadata": {},
   "outputs": [
    {
     "data": {
      "text/plain": [
       "(202846, 36450, 36450)"
      ]
     },
     "execution_count": 12,
     "metadata": {},
     "output_type": "execute_result"
    }
   ],
   "source": [
    "ds[ds[\"to\"].notna()].count()[0], ds[ds[\"bcc\"].notna()].count()[0], ds[ds[\"cc\"].notna()].count()[0]\n"
   ]
  },
  {
   "cell_type": "code",
   "execution_count": null,
   "metadata": {},
   "outputs": [],
   "source": []
  },
  {
   "attachments": {},
   "cell_type": "markdown",
   "metadata": {},
   "source": [
    "### Funcitions for sliding time window\n"
   ]
  },
  {
   "cell_type": "code",
   "execution_count": 13,
   "metadata": {},
   "outputs": [],
   "source": [
    "def move_two_weeks(start_week, next_two_week):\n",
    "    start_week = next_two_week\n",
    "    next_two_week = next_two_week + timedelta(weeks=2)\n",
    "    return start_week, next_two_week\n",
    "\n",
    "\n",
    "def reset_weeks(start_week, next_two_week):\n",
    "    start_week = min_date.date()\n",
    "    next_two_week = start_week + timedelta(weeks=2)\n",
    "    return start_week, next_two_week"
   ]
  },
  {
   "attachments": {},
   "cell_type": "markdown",
   "metadata": {},
   "source": [
    "### Chunk dataset into periods of two weeks and save them as `.csv` locally\n"
   ]
  },
  {
   "cell_type": "code",
   "execution_count": 14,
   "metadata": {},
   "outputs": [
    {
     "name": "stderr",
     "output_type": "stream",
     "text": [
      "C:\\Users\\Alireza Vaezi\\AppData\\Local\\Temp\\ipykernel_26944\\3114955561.py:3: FutureWarning: Comparison of Timestamp with datetime.date is deprecated in order to match the standard library behavior. In a future version these will be considered non-comparable. Use 'ts == pd.Timestamp(date)' or 'ts.date() == date' instead.\n",
      "  while start_week < max_date:\n"
     ]
    }
   ],
   "source": [
    "start_week, next_two_week = reset_weeks(start_week, next_two_week)\n",
    "count = 0\n",
    "while start_week < max_date:\n",
    "    # print(count)\n",
    "    # print(start_week, next_two_week)\n",
    "    ss = ds[(ds[\"date\"] >= pd.to_datetime(start_week)) & (ds[\"date\"] < pd.to_datetime(next_two_week))]\n",
    "    start_week, next_two_week = move_two_weeks(start_week, next_two_week)\n",
    "    if ss.count()[\"id\"] > 0:\n",
    "        ss.to_csv(f\"./out/period-0000{count}.csv\")\n",
    "    count += 1"
   ]
  },
  {
   "attachments": {},
   "cell_type": "markdown",
   "metadata": {},
   "source": [
    "### Loading each period and making adj-matrix for each and saving locally as numpy arrays\n"
   ]
  },
  {
   "cell_type": "code",
   "execution_count": null,
   "metadata": {},
   "outputs": [],
   "source": [
    "chunk_directory = \"./out/*.csv\"\n",
    "\n",
    "all_paths = glob.glob(chunk_directory)\n",
    "period = pd.DataFrame(columns=['id', 'date', 'from', 'to', 'cc', 'bcc'])\n"
   ]
  },
  {
   "cell_type": "code",
   "execution_count": 8,
   "metadata": {},
   "outputs": [
    {
     "ename": "KeyboardInterrupt",
     "evalue": "",
     "output_type": "error",
     "traceback": [
      "\u001b[1;31m---------------------------------------------------------------------------\u001b[0m",
      "\u001b[1;31mKeyboardInterrupt\u001b[0m                         Traceback (most recent call last)",
      "\u001b[1;32m~\\AppData\\Local\\Temp\\ipykernel_26944\\184920178.py\u001b[0m in \u001b[0;36m<module>\u001b[1;34m\u001b[0m\n\u001b[0;32m     29\u001b[0m \u001b[1;33m\u001b[0m\u001b[0m\n\u001b[0;32m     30\u001b[0m         \u001b[0mfilename\u001b[0m \u001b[1;33m=\u001b[0m \u001b[0mfilename\u001b[0m\u001b[1;33m.\u001b[0m\u001b[0mreplace\u001b[0m\u001b[1;33m(\u001b[0m\u001b[1;34m\".csv\"\u001b[0m\u001b[1;33m,\u001b[0m \u001b[1;34m\"-adj_matrix.csv\"\u001b[0m\u001b[1;33m)\u001b[0m\u001b[1;33m\u001b[0m\u001b[1;33m\u001b[0m\u001b[0m\n\u001b[1;32m---> 31\u001b[1;33m         \u001b[0madj_matrix_df\u001b[0m\u001b[1;33m.\u001b[0m\u001b[0mto_csv\u001b[0m\u001b[1;33m(\u001b[0m\u001b[0mpath\u001b[0m \u001b[1;33m+\u001b[0m \u001b[0mfilename\u001b[0m\u001b[1;33m)\u001b[0m\u001b[1;33m\u001b[0m\u001b[1;33m\u001b[0m\u001b[0m\n\u001b[0m\u001b[0;32m     32\u001b[0m         \u001b[0mt\u001b[0m \u001b[1;33m=\u001b[0m \u001b[0madj_matrix_df\u001b[0m\u001b[1;33m.\u001b[0m\u001b[0mto_numpy\u001b[0m\u001b[1;33m(\u001b[0m\u001b[1;33m)\u001b[0m\u001b[1;33m\u001b[0m\u001b[1;33m\u001b[0m\u001b[0m\n\u001b[0;32m     33\u001b[0m         \u001b[0mfilename\u001b[0m \u001b[1;33m=\u001b[0m \u001b[0mfilename\u001b[0m\u001b[1;33m.\u001b[0m\u001b[0mreplace\u001b[0m\u001b[1;33m(\u001b[0m\u001b[1;34m\".csv\"\u001b[0m\u001b[1;33m,\u001b[0m \u001b[1;34m\".npy\"\u001b[0m\u001b[1;33m)\u001b[0m\u001b[1;33m\u001b[0m\u001b[1;33m\u001b[0m\u001b[0m\n",
      "\u001b[1;32md:\\anaconda3\\lib\\site-packages\\pandas\\core\\generic.py\u001b[0m in \u001b[0;36mto_csv\u001b[1;34m(self, path_or_buf, sep, na_rep, float_format, columns, header, index, index_label, mode, encoding, compression, quoting, quotechar, line_terminator, chunksize, date_format, doublequote, escapechar, decimal, errors, storage_options)\u001b[0m\n\u001b[0;32m   3549\u001b[0m         )\n\u001b[0;32m   3550\u001b[0m \u001b[1;33m\u001b[0m\u001b[0m\n\u001b[1;32m-> 3551\u001b[1;33m         return DataFrameRenderer(formatter).to_csv(\n\u001b[0m\u001b[0;32m   3552\u001b[0m             \u001b[0mpath_or_buf\u001b[0m\u001b[1;33m,\u001b[0m\u001b[1;33m\u001b[0m\u001b[1;33m\u001b[0m\u001b[0m\n\u001b[0;32m   3553\u001b[0m             \u001b[0mline_terminator\u001b[0m\u001b[1;33m=\u001b[0m\u001b[0mline_terminator\u001b[0m\u001b[1;33m,\u001b[0m\u001b[1;33m\u001b[0m\u001b[1;33m\u001b[0m\u001b[0m\n",
      "\u001b[1;32md:\\anaconda3\\lib\\site-packages\\pandas\\io\\formats\\format.py\u001b[0m in \u001b[0;36mto_csv\u001b[1;34m(self, path_or_buf, encoding, sep, columns, index_label, mode, compression, quoting, quotechar, line_terminator, chunksize, date_format, doublequote, escapechar, errors, storage_options)\u001b[0m\n\u001b[0;32m   1178\u001b[0m             \u001b[0mformatter\u001b[0m\u001b[1;33m=\u001b[0m\u001b[0mself\u001b[0m\u001b[1;33m.\u001b[0m\u001b[0mfmt\u001b[0m\u001b[1;33m,\u001b[0m\u001b[1;33m\u001b[0m\u001b[1;33m\u001b[0m\u001b[0m\n\u001b[0;32m   1179\u001b[0m         )\n\u001b[1;32m-> 1180\u001b[1;33m         \u001b[0mcsv_formatter\u001b[0m\u001b[1;33m.\u001b[0m\u001b[0msave\u001b[0m\u001b[1;33m(\u001b[0m\u001b[1;33m)\u001b[0m\u001b[1;33m\u001b[0m\u001b[1;33m\u001b[0m\u001b[0m\n\u001b[0m\u001b[0;32m   1181\u001b[0m \u001b[1;33m\u001b[0m\u001b[0m\n\u001b[0;32m   1182\u001b[0m         \u001b[1;32mif\u001b[0m \u001b[0mcreated_buffer\u001b[0m\u001b[1;33m:\u001b[0m\u001b[1;33m\u001b[0m\u001b[1;33m\u001b[0m\u001b[0m\n",
      "\u001b[1;32md:\\anaconda3\\lib\\site-packages\\pandas\\io\\formats\\csvs.py\u001b[0m in \u001b[0;36msave\u001b[1;34m(self)\u001b[0m\n\u001b[0;32m    259\u001b[0m             )\n\u001b[0;32m    260\u001b[0m \u001b[1;33m\u001b[0m\u001b[0m\n\u001b[1;32m--> 261\u001b[1;33m             \u001b[0mself\u001b[0m\u001b[1;33m.\u001b[0m\u001b[0m_save\u001b[0m\u001b[1;33m(\u001b[0m\u001b[1;33m)\u001b[0m\u001b[1;33m\u001b[0m\u001b[1;33m\u001b[0m\u001b[0m\n\u001b[0m\u001b[0;32m    262\u001b[0m \u001b[1;33m\u001b[0m\u001b[0m\n\u001b[0;32m    263\u001b[0m     \u001b[1;32mdef\u001b[0m \u001b[0m_save\u001b[0m\u001b[1;33m(\u001b[0m\u001b[0mself\u001b[0m\u001b[1;33m)\u001b[0m \u001b[1;33m->\u001b[0m \u001b[1;32mNone\u001b[0m\u001b[1;33m:\u001b[0m\u001b[1;33m\u001b[0m\u001b[1;33m\u001b[0m\u001b[0m\n",
      "\u001b[1;32md:\\anaconda3\\lib\\site-packages\\pandas\\io\\common.py\u001b[0m in \u001b[0;36m__exit__\u001b[1;34m(self, *args)\u001b[0m\n\u001b[0;32m    122\u001b[0m \u001b[1;33m\u001b[0m\u001b[0m\n\u001b[0;32m    123\u001b[0m     \u001b[1;32mdef\u001b[0m \u001b[0m__exit__\u001b[0m\u001b[1;33m(\u001b[0m\u001b[0mself\u001b[0m\u001b[1;33m,\u001b[0m \u001b[1;33m*\u001b[0m\u001b[0margs\u001b[0m\u001b[1;33m:\u001b[0m \u001b[0mAny\u001b[0m\u001b[1;33m)\u001b[0m \u001b[1;33m->\u001b[0m \u001b[1;32mNone\u001b[0m\u001b[1;33m:\u001b[0m\u001b[1;33m\u001b[0m\u001b[1;33m\u001b[0m\u001b[0m\n\u001b[1;32m--> 124\u001b[1;33m         \u001b[0mself\u001b[0m\u001b[1;33m.\u001b[0m\u001b[0mclose\u001b[0m\u001b[1;33m(\u001b[0m\u001b[1;33m)\u001b[0m\u001b[1;33m\u001b[0m\u001b[1;33m\u001b[0m\u001b[0m\n\u001b[0m\u001b[0;32m    125\u001b[0m \u001b[1;33m\u001b[0m\u001b[0m\n\u001b[0;32m    126\u001b[0m \u001b[1;33m\u001b[0m\u001b[0m\n",
      "\u001b[1;32md:\\anaconda3\\lib\\site-packages\\pandas\\io\\common.py\u001b[0m in \u001b[0;36mclose\u001b[1;34m(self)\u001b[0m\n\u001b[0;32m    114\u001b[0m             \u001b[0mself\u001b[0m\u001b[1;33m.\u001b[0m\u001b[0mcreated_handles\u001b[0m\u001b[1;33m.\u001b[0m\u001b[0mremove\u001b[0m\u001b[1;33m(\u001b[0m\u001b[0mself\u001b[0m\u001b[1;33m.\u001b[0m\u001b[0mhandle\u001b[0m\u001b[1;33m)\u001b[0m\u001b[1;33m\u001b[0m\u001b[1;33m\u001b[0m\u001b[0m\n\u001b[0;32m    115\u001b[0m         \u001b[1;32mfor\u001b[0m \u001b[0mhandle\u001b[0m \u001b[1;32min\u001b[0m \u001b[0mself\u001b[0m\u001b[1;33m.\u001b[0m\u001b[0mcreated_handles\u001b[0m\u001b[1;33m:\u001b[0m\u001b[1;33m\u001b[0m\u001b[1;33m\u001b[0m\u001b[0m\n\u001b[1;32m--> 116\u001b[1;33m             \u001b[0mhandle\u001b[0m\u001b[1;33m.\u001b[0m\u001b[0mclose\u001b[0m\u001b[1;33m(\u001b[0m\u001b[1;33m)\u001b[0m\u001b[1;33m\u001b[0m\u001b[1;33m\u001b[0m\u001b[0m\n\u001b[0m\u001b[0;32m    117\u001b[0m         \u001b[0mself\u001b[0m\u001b[1;33m.\u001b[0m\u001b[0mcreated_handles\u001b[0m \u001b[1;33m=\u001b[0m \u001b[1;33m[\u001b[0m\u001b[1;33m]\u001b[0m\u001b[1;33m\u001b[0m\u001b[1;33m\u001b[0m\u001b[0m\n\u001b[0;32m    118\u001b[0m         \u001b[0mself\u001b[0m\u001b[1;33m.\u001b[0m\u001b[0mis_wrapped\u001b[0m \u001b[1;33m=\u001b[0m \u001b[1;32mFalse\u001b[0m\u001b[1;33m\u001b[0m\u001b[1;33m\u001b[0m\u001b[0m\n",
      "\u001b[1;31mKeyboardInterrupt\u001b[0m: "
     ]
    }
   ],
   "source": [
    "for i, k in enumerate(all_paths):\n",
    "    adj_matrix = np.zeros((148, 148), dtype=int)\n",
    "    \n",
    "    filename = k.split(\"\\\\\")[1]\n",
    "    path = \"./adj_matrices_from_cc_bcc/\"\n",
    "    df = pd.read_csv(k)\n",
    "    # print(df[\"from\"].unique())\n",
    "    for _, row in df.iterrows():\n",
    "        try:\n",
    "            from_index = employee_emails.index(row['from'])\n",
    "        except Exception as e:\n",
    "            print(e, k)\n",
    "        if not from_index:\n",
    "            continue\n",
    "        # print(from_index)\n",
    "\n",
    "        cc_list = row['cc'].split(',') if pd.notna(row['cc']) else []\n",
    "        bcc_list = row['bcc'].split(',') if pd.notna(row['bcc']) else []\n",
    "        all_cc_bcc = cc_list + bcc_list\n",
    "        # print(to_list)\n",
    "        for cc in all_cc_bcc:\n",
    "            if cc in employee_emails:\n",
    "                to_index = employee_emails.index(cc)\n",
    "                if from_index != to_index:\n",
    "                    adj_matrix[from_index, to_index] += 1\n",
    "                    adj_matrix[to_index, from_index] += 1\n",
    "\n",
    "        adj_matrix_df = pd.DataFrame(adj_matrix, columns=employee_emails, index=employee_emails)\n",
    "\n",
    "        filename = filename.replace(\".csv\", \"-adj_matrix.csv\")\n",
    "        adj_matrix_df.to_csv(path + filename)\n",
    "        t = adj_matrix_df.to_numpy()\n",
    "        filename = filename.replace(\".csv\", \".npy\")\n",
    "        try:\n",
    "\n",
    "            with open(path + filename, 'wb') as f:\n",
    "                np.save(f, t)\n",
    "        except Exception as e:\n",
    "            print(e)\n",
    "            print(i, k)\n"
   ]
  },
  {
   "cell_type": "code",
   "execution_count": null,
   "metadata": {},
   "outputs": [],
   "source": [
    "play_sound()"
   ]
  },
  {
   "cell_type": "code",
   "execution_count": null,
   "metadata": {},
   "outputs": [],
   "source": []
  }
 ],
 "metadata": {
  "kernelspec": {
   "display_name": "base",
   "language": "python",
   "name": "python3"
  },
  "language_info": {
   "codemirror_mode": {
    "name": "ipython",
    "version": 3
   },
   "file_extension": ".py",
   "mimetype": "text/x-python",
   "name": "python",
   "nbconvert_exporter": "python",
   "pygments_lexer": "ipython3",
   "version": "3.9.13"
  },
  "orig_nbformat": 4
 },
 "nbformat": 4,
 "nbformat_minor": 2
}
