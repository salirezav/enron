{
 "cells": [
  {
   "cell_type": "code",
   "execution_count": 31,
   "metadata": {},
   "outputs": [],
   "source": [
    "import os\n",
    "import pandas as pd\n",
    "import numpy as np\n",
    "import os\n",
    "import glob\n",
    "import glob2\n",
    "import pathlib\n",
    "import re\n",
    "import pyperclip\n",
    "import email\n",
    "from datetime import date, timedelta\n",
    "import winsound\n",
    "\n",
    "\n",
    "def play_sound():\n",
    "    duration = 300  # milliseconds\n",
    "    freq = 440  # Hz\n",
    "    winsound.Beep(freq, duration)\n",
    "    winsound.Beep(freq, duration)"
   ]
  },
  {
   "attachments": {},
   "cell_type": "markdown",
   "metadata": {},
   "source": [
    "### Funcitions for sliding time window"
   ]
  },
  {
   "attachments": {},
   "cell_type": "markdown",
   "metadata": {},
   "source": [
    "### Loading dataset, creating a list of employee emails for future reference"
   ]
  },
  {
   "cell_type": "code",
   "execution_count": 32,
   "metadata": {},
   "outputs": [],
   "source": [
    "employee_names = [\n",
    "    \"Phillip Allen\", \"John Arnold\", \"harry.arora\", \"Robert Badeer\",\n",
    "    \"Susan Bailey\", \"Eric Bass\", \"Don Baughman\", \"Sally Beck\", \"Robert Benson\",\n",
    "    \"Lynn Blair\", \"Sandra Brawner\", \"Rick Buy\", \"Larry Campbell\",\n",
    "    \"Mike Carson\", \"Michelle Cash\", \"Monika Causholli\", \"Shelley Corman\",\n",
    "    \"Sean Crandall\", \"Martin Cuilla\", \"jeff_dasovich\", \"Dana Davis\",\n",
    "    \"Craig Dean\", \"David Delainey\", \"James Derrick\", \"Stacy Dickson\",\n",
    "    \"Lindy Donoho\", \"Tom Donohoe\", \"Chris Dorland\", \"Frank Ermis\",\n",
    "    \"Daren Farmer\", \"Mary Fischer\", \"John Forney\", \"Drew Fossum\", \"Lisa Gang\",\n",
    "    \"Randall Gay\", \"Tracy Geaccone\", \"Chris Germany\", \"doug.gilbert-smith\",\n",
    "    \"Darron Giron\", \"john.griffith\", \"mike.grigsby\", \"Mark Guzman\",\n",
    "    \"Mark Haedicke\", \"Mary Hain\", \"Steven Harris\", \"Rod Hayslett\",\n",
    "    \"Marie Heard\", \"Scott Hendrickson\", \"Juan Hernandez\", \"John Hodge\",\n",
    "    \"Keith Holst\", \"Stanley Horton\", \"Kevin Hyatt\", \"Dan Hyvl\", \"Tana Jones\",\n",
    "    \"Vince Kaminski\", \"Steven Kean\", \"Peter Keavey\", \"Kam Keiser\", \"Jeff King\",\n",
    "    \"Louise Kitchen\", \"Tori Kuykendall\", \"John Lavorato\", \"Kenneth Lay\",\n",
    "    \"Matthew Lenhart\", \"Andrew Lewis\", \"Eric Linder\", \"Michelle Lokay\",\n",
    "    \"Teb Lokey\", \"Phillip Love\", \"Paul Lucci\", \"mike.maggi\", \"Kay Mann\",\n",
    "    \"Thomas Martin\", \"larry.may\", \"Danny McCarty\", \"Mike McConnell\",\n",
    "    \"brad.mckay\", \"Jonathan Mckay\", \"Errol McLaughlin\", \"steven.merris\",\n",
    "    \"Albert Meyers\", \"l..mims\", \"matt.motley\", \"Scott Neal\", \"Gerald Nemec\",\n",
    "    \"Stephanie Panus\", \"Joe Parks\", \"Susan Pereira\", \"Debra Perlingiere\",\n",
    "    \"Vladi Pimenov\", \"Phillip Platter\", \"Kevin Presto\", \"Joe Quenet\",\n",
    "    \"Dutch Quigley\", \"Bill Rapp\", \"Jay Reitmeyer\", \"Cooper Richey\",\n",
    "    \"Andrea Ring\", \"Richard Ring\", \"Robin Rodrigue\", \"Benjamin Rogers\",\n",
    "    \"Kevin Ruscitti\", \"Elizabeth Sager\", \"Eric Saibi\", \"Holden Salisbury\",\n",
    "    \"Monique Sanchez\", \"Richard Sanders\", \"Diana Scholtes\",\n",
    "    \"Darrell Schoolcraft\", \"Jim Schwieger\", \"Susan Scott\", \"Cara Semperger\",\n",
    "    \"Sara Shackleton\", \"Jeffrey Shankman\", \"Richard Shapiro\", \"Hunter Shively\",\n",
    "    \"jeff.skilling\", \"Ryan Slinger\", \"Matt Smith\", \"Geir Solberg\",\n",
    "    \"steven.south\", \"Theresa Staab\", \"Carol Clair\", \"James Steffes\",\n",
    "    \"Joe Stepenovitch\", \"Chris Stokley\", \"geoff.storey\", \"Fletcher Sturm\",\n",
    "    \"Mike Swerzbin\", \"Kate Symes\", \"Mark Taylor\", \"Jane Tholt\", \"Paul Thomas\",\n",
    "    \"Judy Townsend\", \"Barry Tycholiz\", \"Kim Ward\", \"Kimberly Watson\",\n",
    "    \"Charles Weldon\", \"Greg.Whalley\", \"Stacey White\", \"Mark Whitt\",\n",
    "    \"Jason Williams\", \"bill.williams\", \"Jason Wolfe\", \"Paul Y'Barbo\",\n",
    "    \"Andy Zipper\", \"John Zufferli\"\n",
    "]\n",
    "\n",
    "employee_emails = [\n",
    "    x.lower().replace(\" \", \".\") + \"@enron.com\" for x in employee_names\n",
    "]\n",
    "ds = pd.read_csv(\"./dataset.csv\")\n",
    "pattern = \"|\".join(employee_emails)\n",
    "\n",
    "# Filtering dataframe to only contain\n",
    "# emails that are sent by any of the employees\n",
    "ds = ds[ds[\"from\"].str.contains(pattern)]\n",
    "ds[\"date\"] = pd.to_datetime(ds[\"date\"])\n",
    "# min_date = ds[\"date\"].min()\n",
    "min_date = pd.to_datetime(\"1999-01-01\")\n",
    "max_date = ds[\"date\"].max()\n",
    "start_week = min_date.date()\n",
    "next_two_week = start_week + timedelta(weeks=2)"
   ]
  },
  {
   "cell_type": "code",
   "execution_count": 33,
   "metadata": {},
   "outputs": [
    {
     "data": {
      "text/plain": [
       "(Timestamp('1999-01-01 00:00:00'), Timestamp('2002-06-25 00:00:00'))"
      ]
     },
     "execution_count": 33,
     "metadata": {},
     "output_type": "execute_result"
    }
   ],
   "source": [
    "min_date,max_date"
   ]
  },
  {
   "cell_type": "markdown",
   "metadata": {},
   "source": [
    "### Funcitions for sliding time window"
   ]
  },
  {
   "cell_type": "code",
   "execution_count": 34,
   "metadata": {},
   "outputs": [],
   "source": [
    "def move_two_weeks(start_week, next_two_week):\n",
    "    start_week = next_two_week\n",
    "    next_two_week = next_two_week + timedelta(weeks=2)\n",
    "    return start_week, next_two_week\n",
    "\n",
    "\n",
    "def reset_weeks(start_week, next_two_week):\n",
    "    start_week = min_date.date()\n",
    "    next_two_week = start_week + timedelta(weeks=2)\n",
    "    return start_week, next_two_week"
   ]
  },
  {
   "attachments": {},
   "cell_type": "markdown",
   "metadata": {},
   "source": [
    "### Chunk dataset into periods of two weeks and save them as `.csv` locally"
   ]
  },
  {
   "cell_type": "code",
   "execution_count": 35,
   "metadata": {},
   "outputs": [
    {
     "name": "stderr",
     "output_type": "stream",
     "text": [
      "C:\\Users\\Alireza Vaezi\\AppData\\Local\\Temp\\ipykernel_33852\\1975823543.py:3: FutureWarning: Comparison of Timestamp with datetime.date is deprecated in order to match the standard library behavior. In a future version these will be considered non-comparable. Use 'ts == pd.Timestamp(date)' or 'ts.date() == date' instead.\n",
      "  while start_week < max_date:\n"
     ]
    }
   ],
   "source": [
    "start_week, next_two_week = reset_weeks(start_week, next_two_week)\n",
    "count = 0\n",
    "while start_week < max_date:\n",
    "    # print(count)\n",
    "    # print(start_week, next_two_week)\n",
    "    ss = ds[(ds[\"date\"] >= pd.to_datetime(start_week))\n",
    "            & (ds[\"date\"] < pd.to_datetime(next_two_week))]\n",
    "    start_week, next_two_week = move_two_weeks(start_week, next_two_week)\n",
    "    if ss.count()[\"id\"] > 0:\n",
    "        ss.to_csv(f\"./out/period-0000{count}.csv\")\n",
    "    count += 1"
   ]
  },
  {
   "cell_type": "markdown",
   "metadata": {},
   "source": [
    "### Loading each period and making adj-matrix for each and saving locally as numpy arrays"
   ]
  },
  {
   "cell_type": "code",
   "execution_count": 36,
   "metadata": {},
   "outputs": [],
   "source": [
    "chunk_directory = \"./out/*.csv\"\n",
    "\n",
    "all_paths = glob.glob(chunk_directory)\n",
    "period = pd.DataFrame(columns=['id', 'date', 'from', 'to', 'cc', 'bcc'])\n",
    "adj_matrix = np.zeros((148, 148), dtype=int)\n",
    "\n"
   ]
  },
  {
   "cell_type": "code",
   "execution_count": 37,
   "metadata": {},
   "outputs": [
    {
     "ename": "KeyboardInterrupt",
     "evalue": "",
     "output_type": "error",
     "traceback": [
      "\u001b[1;31m---------------------------------------------------------------------------\u001b[0m",
      "\u001b[1;31mKeyboardInterrupt\u001b[0m                         Traceback (most recent call last)",
      "\u001b[1;32m~\\AppData\\Local\\Temp\\ipykernel_33852\\393943520.py\u001b[0m in \u001b[0;36m<module>\u001b[1;34m\u001b[0m\n\u001b[0;32m     28\u001b[0m \u001b[1;33m\u001b[0m\u001b[0m\n\u001b[0;32m     29\u001b[0m         \u001b[0mfilename\u001b[0m \u001b[1;33m=\u001b[0m \u001b[0mfilename\u001b[0m\u001b[1;33m.\u001b[0m\u001b[0mreplace\u001b[0m\u001b[1;33m(\u001b[0m\u001b[1;34m\".csv\"\u001b[0m\u001b[1;33m,\u001b[0m \u001b[1;34m\"-adj_matrix.csv\"\u001b[0m\u001b[1;33m)\u001b[0m\u001b[1;33m\u001b[0m\u001b[1;33m\u001b[0m\u001b[0m\n\u001b[1;32m---> 30\u001b[1;33m         \u001b[0madj_matrix_df\u001b[0m\u001b[1;33m.\u001b[0m\u001b[0mto_csv\u001b[0m\u001b[1;33m(\u001b[0m\u001b[0mpath\u001b[0m \u001b[1;33m+\u001b[0m \u001b[0mfilename\u001b[0m\u001b[1;33m)\u001b[0m\u001b[1;33m\u001b[0m\u001b[1;33m\u001b[0m\u001b[0m\n\u001b[0m\u001b[0;32m     31\u001b[0m         \u001b[0mt\u001b[0m \u001b[1;33m=\u001b[0m \u001b[0madj_matrix_df\u001b[0m\u001b[1;33m.\u001b[0m\u001b[0mto_numpy\u001b[0m\u001b[1;33m(\u001b[0m\u001b[1;33m)\u001b[0m\u001b[1;33m\u001b[0m\u001b[1;33m\u001b[0m\u001b[0m\n\u001b[0;32m     32\u001b[0m         \u001b[0mfilename\u001b[0m \u001b[1;33m=\u001b[0m \u001b[0mfilename\u001b[0m\u001b[1;33m.\u001b[0m\u001b[0mreplace\u001b[0m\u001b[1;33m(\u001b[0m\u001b[1;34m\".csv\"\u001b[0m\u001b[1;33m,\u001b[0m \u001b[1;34m\".npy\"\u001b[0m\u001b[1;33m)\u001b[0m\u001b[1;33m\u001b[0m\u001b[1;33m\u001b[0m\u001b[0m\n",
      "\u001b[1;32md:\\anaconda3\\lib\\site-packages\\pandas\\core\\generic.py\u001b[0m in \u001b[0;36mto_csv\u001b[1;34m(self, path_or_buf, sep, na_rep, float_format, columns, header, index, index_label, mode, encoding, compression, quoting, quotechar, line_terminator, chunksize, date_format, doublequote, escapechar, decimal, errors, storage_options)\u001b[0m\n\u001b[0;32m   3549\u001b[0m         )\n\u001b[0;32m   3550\u001b[0m \u001b[1;33m\u001b[0m\u001b[0m\n\u001b[1;32m-> 3551\u001b[1;33m         return DataFrameRenderer(formatter).to_csv(\n\u001b[0m\u001b[0;32m   3552\u001b[0m             \u001b[0mpath_or_buf\u001b[0m\u001b[1;33m,\u001b[0m\u001b[1;33m\u001b[0m\u001b[1;33m\u001b[0m\u001b[0m\n\u001b[0;32m   3553\u001b[0m             \u001b[0mline_terminator\u001b[0m\u001b[1;33m=\u001b[0m\u001b[0mline_terminator\u001b[0m\u001b[1;33m,\u001b[0m\u001b[1;33m\u001b[0m\u001b[1;33m\u001b[0m\u001b[0m\n",
      "\u001b[1;32md:\\anaconda3\\lib\\site-packages\\pandas\\io\\formats\\format.py\u001b[0m in \u001b[0;36mto_csv\u001b[1;34m(self, path_or_buf, encoding, sep, columns, index_label, mode, compression, quoting, quotechar, line_terminator, chunksize, date_format, doublequote, escapechar, errors, storage_options)\u001b[0m\n\u001b[0;32m   1178\u001b[0m             \u001b[0mformatter\u001b[0m\u001b[1;33m=\u001b[0m\u001b[0mself\u001b[0m\u001b[1;33m.\u001b[0m\u001b[0mfmt\u001b[0m\u001b[1;33m,\u001b[0m\u001b[1;33m\u001b[0m\u001b[1;33m\u001b[0m\u001b[0m\n\u001b[0;32m   1179\u001b[0m         )\n\u001b[1;32m-> 1180\u001b[1;33m         \u001b[0mcsv_formatter\u001b[0m\u001b[1;33m.\u001b[0m\u001b[0msave\u001b[0m\u001b[1;33m(\u001b[0m\u001b[1;33m)\u001b[0m\u001b[1;33m\u001b[0m\u001b[1;33m\u001b[0m\u001b[0m\n\u001b[0m\u001b[0;32m   1181\u001b[0m \u001b[1;33m\u001b[0m\u001b[0m\n\u001b[0;32m   1182\u001b[0m         \u001b[1;32mif\u001b[0m \u001b[0mcreated_buffer\u001b[0m\u001b[1;33m:\u001b[0m\u001b[1;33m\u001b[0m\u001b[1;33m\u001b[0m\u001b[0m\n",
      "\u001b[1;32md:\\anaconda3\\lib\\site-packages\\pandas\\io\\formats\\csvs.py\u001b[0m in \u001b[0;36msave\u001b[1;34m(self)\u001b[0m\n\u001b[0;32m    239\u001b[0m         \"\"\"\n\u001b[0;32m    240\u001b[0m         \u001b[1;31m# apply compression and byte/text conversion\u001b[0m\u001b[1;33m\u001b[0m\u001b[1;33m\u001b[0m\u001b[0m\n\u001b[1;32m--> 241\u001b[1;33m         with get_handle(\n\u001b[0m\u001b[0;32m    242\u001b[0m             \u001b[0mself\u001b[0m\u001b[1;33m.\u001b[0m\u001b[0mfilepath_or_buffer\u001b[0m\u001b[1;33m,\u001b[0m\u001b[1;33m\u001b[0m\u001b[1;33m\u001b[0m\u001b[0m\n\u001b[0;32m    243\u001b[0m             \u001b[0mself\u001b[0m\u001b[1;33m.\u001b[0m\u001b[0mmode\u001b[0m\u001b[1;33m,\u001b[0m\u001b[1;33m\u001b[0m\u001b[1;33m\u001b[0m\u001b[0m\n",
      "\u001b[1;32md:\\anaconda3\\lib\\site-packages\\pandas\\io\\common.py\u001b[0m in \u001b[0;36mget_handle\u001b[1;34m(path_or_buf, mode, encoding, compression, memory_map, is_text, errors, storage_options)\u001b[0m\n\u001b[0;32m    692\u001b[0m     \u001b[1;31m# Only for write methods\u001b[0m\u001b[1;33m\u001b[0m\u001b[1;33m\u001b[0m\u001b[0m\n\u001b[0;32m    693\u001b[0m     \u001b[1;32mif\u001b[0m \u001b[1;34m\"r\"\u001b[0m \u001b[1;32mnot\u001b[0m \u001b[1;32min\u001b[0m \u001b[0mmode\u001b[0m \u001b[1;32mand\u001b[0m \u001b[0mis_path\u001b[0m\u001b[1;33m:\u001b[0m\u001b[1;33m\u001b[0m\u001b[1;33m\u001b[0m\u001b[0m\n\u001b[1;32m--> 694\u001b[1;33m         \u001b[0mcheck_parent_directory\u001b[0m\u001b[1;33m(\u001b[0m\u001b[0mstr\u001b[0m\u001b[1;33m(\u001b[0m\u001b[0mhandle\u001b[0m\u001b[1;33m)\u001b[0m\u001b[1;33m)\u001b[0m\u001b[1;33m\u001b[0m\u001b[1;33m\u001b[0m\u001b[0m\n\u001b[0m\u001b[0;32m    695\u001b[0m \u001b[1;33m\u001b[0m\u001b[0m\n\u001b[0;32m    696\u001b[0m     \u001b[1;32mif\u001b[0m \u001b[0mcompression\u001b[0m\u001b[1;33m:\u001b[0m\u001b[1;33m\u001b[0m\u001b[1;33m\u001b[0m\u001b[0m\n",
      "\u001b[1;32md:\\anaconda3\\lib\\site-packages\\pandas\\io\\common.py\u001b[0m in \u001b[0;36mcheck_parent_directory\u001b[1;34m(path)\u001b[0m\n\u001b[0;32m    565\u001b[0m     \"\"\"\n\u001b[0;32m    566\u001b[0m     \u001b[0mparent\u001b[0m \u001b[1;33m=\u001b[0m \u001b[0mPath\u001b[0m\u001b[1;33m(\u001b[0m\u001b[0mpath\u001b[0m\u001b[1;33m)\u001b[0m\u001b[1;33m.\u001b[0m\u001b[0mparent\u001b[0m\u001b[1;33m\u001b[0m\u001b[1;33m\u001b[0m\u001b[0m\n\u001b[1;32m--> 567\u001b[1;33m     \u001b[1;32mif\u001b[0m \u001b[1;32mnot\u001b[0m \u001b[0mparent\u001b[0m\u001b[1;33m.\u001b[0m\u001b[0mis_dir\u001b[0m\u001b[1;33m(\u001b[0m\u001b[1;33m)\u001b[0m\u001b[1;33m:\u001b[0m\u001b[1;33m\u001b[0m\u001b[1;33m\u001b[0m\u001b[0m\n\u001b[0m\u001b[0;32m    568\u001b[0m         \u001b[1;32mraise\u001b[0m \u001b[0mOSError\u001b[0m\u001b[1;33m(\u001b[0m\u001b[1;34mrf\"Cannot save file into a non-existent directory: '{parent}'\"\u001b[0m\u001b[1;33m)\u001b[0m\u001b[1;33m\u001b[0m\u001b[1;33m\u001b[0m\u001b[0m\n\u001b[0;32m    569\u001b[0m \u001b[1;33m\u001b[0m\u001b[0m\n",
      "\u001b[1;32md:\\anaconda3\\lib\\pathlib.py\u001b[0m in \u001b[0;36mis_dir\u001b[1;34m(self)\u001b[0m\n\u001b[0;32m   1437\u001b[0m         \"\"\"\n\u001b[0;32m   1438\u001b[0m         \u001b[1;32mtry\u001b[0m\u001b[1;33m:\u001b[0m\u001b[1;33m\u001b[0m\u001b[1;33m\u001b[0m\u001b[0m\n\u001b[1;32m-> 1439\u001b[1;33m             \u001b[1;32mreturn\u001b[0m \u001b[0mS_ISDIR\u001b[0m\u001b[1;33m(\u001b[0m\u001b[0mself\u001b[0m\u001b[1;33m.\u001b[0m\u001b[0mstat\u001b[0m\u001b[1;33m(\u001b[0m\u001b[1;33m)\u001b[0m\u001b[1;33m.\u001b[0m\u001b[0mst_mode\u001b[0m\u001b[1;33m)\u001b[0m\u001b[1;33m\u001b[0m\u001b[1;33m\u001b[0m\u001b[0m\n\u001b[0m\u001b[0;32m   1440\u001b[0m         \u001b[1;32mexcept\u001b[0m \u001b[0mOSError\u001b[0m \u001b[1;32mas\u001b[0m \u001b[0me\u001b[0m\u001b[1;33m:\u001b[0m\u001b[1;33m\u001b[0m\u001b[1;33m\u001b[0m\u001b[0m\n\u001b[0;32m   1441\u001b[0m             \u001b[1;32mif\u001b[0m \u001b[1;32mnot\u001b[0m \u001b[0m_ignore_error\u001b[0m\u001b[1;33m(\u001b[0m\u001b[0me\u001b[0m\u001b[1;33m)\u001b[0m\u001b[1;33m:\u001b[0m\u001b[1;33m\u001b[0m\u001b[1;33m\u001b[0m\u001b[0m\n",
      "\u001b[1;32md:\\anaconda3\\lib\\pathlib.py\u001b[0m in \u001b[0;36mstat\u001b[1;34m(self)\u001b[0m\n\u001b[0;32m   1230\u001b[0m         \u001b[0mos\u001b[0m\u001b[1;33m.\u001b[0m\u001b[0mstat\u001b[0m\u001b[1;33m(\u001b[0m\u001b[1;33m)\u001b[0m \u001b[0mdoes\u001b[0m\u001b[1;33m.\u001b[0m\u001b[1;33m\u001b[0m\u001b[1;33m\u001b[0m\u001b[0m\n\u001b[0;32m   1231\u001b[0m         \"\"\"\n\u001b[1;32m-> 1232\u001b[1;33m         \u001b[1;32mreturn\u001b[0m \u001b[0mself\u001b[0m\u001b[1;33m.\u001b[0m\u001b[0m_accessor\u001b[0m\u001b[1;33m.\u001b[0m\u001b[0mstat\u001b[0m\u001b[1;33m(\u001b[0m\u001b[0mself\u001b[0m\u001b[1;33m)\u001b[0m\u001b[1;33m\u001b[0m\u001b[1;33m\u001b[0m\u001b[0m\n\u001b[0m\u001b[0;32m   1233\u001b[0m \u001b[1;33m\u001b[0m\u001b[0m\n\u001b[0;32m   1234\u001b[0m     \u001b[1;32mdef\u001b[0m \u001b[0mowner\u001b[0m\u001b[1;33m(\u001b[0m\u001b[0mself\u001b[0m\u001b[1;33m)\u001b[0m\u001b[1;33m:\u001b[0m\u001b[1;33m\u001b[0m\u001b[1;33m\u001b[0m\u001b[0m\n",
      "\u001b[1;31mKeyboardInterrupt\u001b[0m: "
     ]
    }
   ],
   "source": [
    "for i, k in enumerate(all_paths):\n",
    "    filename = k.split(\"\\\\\")[1]\n",
    "    path = \"./adj_matrices_from_cc_bcc/\"\n",
    "    df = pd.read_csv(k)\n",
    "    # print(df[\"from\"].unique())\n",
    "    for _, row in df.iterrows():\n",
    "        try:\n",
    "            from_index = employee_emails.index(row['from'])\n",
    "        except Exception as e:\n",
    "            print(e, k)\n",
    "        if not from_index: continue\n",
    "        # print(from_index)\n",
    "\n",
    "        cc_list = row['cc'].split(',') if pd.notna(row['cc']) else []\n",
    "        bcc_list = row['bcc'].split(',') if pd.notna(row['bcc']) else []\n",
    "        all_cc_bcc = cc_list + bcc_list\n",
    "        # print(to_list)\n",
    "        for cc in all_cc_bcc:\n",
    "            if cc in employee_emails:\n",
    "                to_index = employee_emails.index(cc)\n",
    "                if from_index != to_index:\n",
    "                    adj_matrix[from_index, to_index] += 1\n",
    "                    adj_matrix[to_index, from_index] += 1\n",
    "\n",
    "        adj_matrix_df = pd.DataFrame(adj_matrix,\n",
    "                                     columns=employee_emails,\n",
    "                                     index=employee_emails)\n",
    "\n",
    "        filename = filename.replace(\".csv\", \"-adj_matrix.csv\")\n",
    "        adj_matrix_df.to_csv(path + filename)\n",
    "        t = adj_matrix_df.to_numpy()\n",
    "        filename = filename.replace(\".csv\", \".npy\")\n",
    "        with open(path + filename, 'wb') as f:\n",
    "            np.save(f, t)\n"
   ]
  },
  {
   "cell_type": "code",
   "execution_count": null,
   "metadata": {},
   "outputs": [],
   "source": [
    "play_sound()"
   ]
  },
  {
   "cell_type": "code",
   "execution_count": null,
   "metadata": {},
   "outputs": [],
   "source": []
  }
 ],
 "metadata": {
  "kernelspec": {
   "display_name": "base",
   "language": "python",
   "name": "python3"
  },
  "language_info": {
   "codemirror_mode": {
    "name": "ipython",
    "version": 3
   },
   "file_extension": ".py",
   "mimetype": "text/x-python",
   "name": "python",
   "nbconvert_exporter": "python",
   "pygments_lexer": "ipython3",
   "version": "3.9.13"
  },
  "orig_nbformat": 4
 },
 "nbformat": 4,
 "nbformat_minor": 2
}
