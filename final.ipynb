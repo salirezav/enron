{
 "cells": [
  {
   "cell_type": "code",
   "execution_count": 1,
   "metadata": {},
   "outputs": [],
   "source": [
    "import os\n",
    "import pandas as pd\n",
    "import numpy as np\n",
    "import os\n",
    "import glob\n",
    "import glob2\n",
    "import pathlib\n",
    "import re\n",
    "import pyperclip\n",
    "import email\n",
    "from datetime import date, timedelta"
   ]
  },
  {
   "attachments": {},
   "cell_type": "markdown",
   "metadata": {},
   "source": [
    "### Funcitions for sliding time window"
   ]
  },
  {
   "cell_type": "code",
   "execution_count": 2,
   "metadata": {},
   "outputs": [],
   "source": [
    "def move_two_weeks(start_week, next_two_week):\n",
    "    start_week = next_two_week\n",
    "    next_two_week = next_two_week + timedelta(weeks=2)\n",
    "    return start_week, next_two_week\n",
    "\n",
    "\n",
    "def reset_weeks(start_week, next_two_week):\n",
    "    start_week = min_date.date()\n",
    "    next_two_week = start_week + timedelta(weeks=2)\n",
    "    return start_week, next_two_week"
   ]
  },
  {
   "attachments": {},
   "cell_type": "markdown",
   "metadata": {},
   "source": [
    "### Loading dataset, creating a list of employee emails for future reference"
   ]
  },
  {
   "cell_type": "code",
   "execution_count": 3,
   "metadata": {},
   "outputs": [],
   "source": [
    "employee_names = [\n",
    "    \"Phillip Allen\", \"John Arnold\", \"harry.arora\", \"Robert Badeer\",\n",
    "    \"Susan Bailey\", \"Eric Bass\", \"Don Baughman\", \"Sally Beck\", \"Robert Benson\",\n",
    "    \"Lynn Blair\", \"Sandra Brawner\", \"Rick Buy\", \"Larry Campbell\",\n",
    "    \"Mike Carson\", \"Michelle Cash\", \"Monika Causholli\", \"Shelley Corman\",\n",
    "    \"Sean Crandall\", \"Martin Cuilla\", \"jeff_dasovich\", \"Dana Davis\",\n",
    "    \"Craig Dean\", \"David Delainey\", \"James Derrick\", \"Stacy Dickson\",\n",
    "    \"Lindy Donoho\", \"Tom Donohoe\", \"Chris Dorland\", \"Frank Ermis\",\n",
    "    \"Daren Farmer\", \"Mary Fischer\", \"John Forney\", \"Drew Fossum\", \"Lisa Gang\",\n",
    "    \"Randall Gay\", \"Tracy Geaccone\", \"Chris Germany\", \"doug.gilbert-smith\",\n",
    "    \"Darron Giron\", \"john.griffith\", \"mike.grigsby\", \"Mark Guzman\",\n",
    "    \"Mark Haedicke\", \"Mary Hain\", \"Steven Harris\", \"Rod Hayslett\",\n",
    "    \"Marie Heard\", \"Scott Hendrickson\", \"Juan Hernandez\", \"John Hodge\",\n",
    "    \"Keith Holst\", \"Stanley Horton\", \"Kevin Hyatt\", \"Dan Hyvl\", \"Tana Jones\",\n",
    "    \"Vince Kaminski\", \"Steven Kean\", \"Peter Keavey\", \"Kam Keiser\", \"Jeff King\",\n",
    "    \"Louise Kitchen\", \"Tori Kuykendall\", \"John Lavorato\", \"Kenneth Lay\",\n",
    "    \"Matthew Lenhart\", \"Andrew Lewis\", \"Eric Linder\", \"Michelle Lokay\",\n",
    "    \"Teb Lokey\", \"Phillip Love\", \"Paul Lucci\", \"mike.maggi\", \"Kay Mann\",\n",
    "    \"Thomas Martin\", \"larry.may\", \"Danny McCarty\", \"Mike McConnell\",\n",
    "    \"brad.mckay\", \"Jonathan Mckay\", \"Errol McLaughlin\", \"steven.merris\",\n",
    "    \"Albert Meyers\", \"l..mims\", \"matt.motley\", \"Scott Neal\", \"Gerald Nemec\",\n",
    "    \"Stephanie Panus\", \"Joe Parks\", \"Susan Pereira\", \"Debra Perlingiere\",\n",
    "    \"Vladi Pimenov\", \"Phillip Platter\", \"Kevin Presto\", \"Joe Quenet\",\n",
    "    \"Dutch Quigley\", \"Bill Rapp\", \"Jay Reitmeyer\", \"Cooper Richey\",\n",
    "    \"Andrea Ring\", \"Richard Ring\", \"Robin Rodrigue\", \"Benjamin Rogers\",\n",
    "    \"Kevin Ruscitti\", \"Elizabeth Sager\", \"Eric Saibi\", \"Holden Salisbury\",\n",
    "    \"Monique Sanchez\", \"Richard Sanders\", \"Diana Scholtes\",\n",
    "    \"Darrell Schoolcraft\", \"Jim Schwieger\", \"Susan Scott\", \"Cara Semperger\",\n",
    "    \"Sara Shackleton\", \"Jeffrey Shankman\", \"Richard Shapiro\", \"Hunter Shively\",\n",
    "    \"jeff.skilling\", \"Ryan Slinger\", \"Matt Smith\", \"Geir Solberg\",\n",
    "    \"steven.south\", \"Theresa Staab\", \"Carol Clair\", \"James Steffes\",\n",
    "    \"Joe Stepenovitch\", \"Chris Stokley\", \"geoff.storey\", \"Fletcher Sturm\",\n",
    "    \"Mike Swerzbin\", \"Kate Symes\", \"Mark Taylor\", \"Jane Tholt\", \"Paul Thomas\",\n",
    "    \"Judy Townsend\", \"Barry Tycholiz\", \"Kim Ward\", \"Kimberly Watson\",\n",
    "    \"Charles Weldon\", \"Greg.Whalley\", \"Stacey White\", \"Mark Whitt\",\n",
    "    \"Jason Williams\", \"bill.williams\", \"Jason Wolfe\", \"Paul Y'Barbo\",\n",
    "    \"Andy Zipper\", \"John Zufferli\"\n",
    "]\n",
    "\n",
    "employee_emails = [\n",
    "    x.lower().replace(\" \", \".\") + \"@enron.com\" for x in employee_names\n",
    "]\n",
    "ds = pd.read_csv(\"./dataset.csv\")\n",
    "pattern = \"|\".join(employee_emails)\n",
    "\n",
    "# Filtering dataframe to only contain\n",
    "# emails that are sent by any of the employees\n",
    "ds = ds[ds[\"from\"].str.contains(pattern)]\n",
    "ds[\"date\"] = pd.to_datetime(ds[\"date\"])\n",
    "min_date = ds[\"date\"].min()\n",
    "max_date = ds[\"date\"].max()\n",
    "start_week = min_date.date()\n",
    "next_two_week = start_week + timedelta(weeks=2)"
   ]
  },
  {
   "attachments": {},
   "cell_type": "markdown",
   "metadata": {},
   "source": [
    "### Chunk dataset into periods of two weeks and save them as `.csv` locally"
   ]
  },
  {
   "cell_type": "code",
   "execution_count": 4,
   "metadata": {},
   "outputs": [
    {
     "name": "stderr",
     "output_type": "stream",
     "text": [
      "C:\\Users\\Alireza Vaezi\\AppData\\Local\\Temp\\ipykernel_21796\\1975823543.py:3: FutureWarning: Comparison of Timestamp with datetime.date is deprecated in order to match the standard library behavior. In a future version these will be considered non-comparable. Use 'ts == pd.Timestamp(date)' or 'ts.date() == date' instead.\n",
      "  while start_week < max_date:\n"
     ]
    }
   ],
   "source": [
    "start_week, next_two_week = reset_weeks(start_week, next_two_week)\n",
    "count = 0\n",
    "while start_week < max_date:\n",
    "    # print(count)\n",
    "    # print(start_week, next_two_week)\n",
    "    ss = ds[(ds[\"date\"] >= pd.to_datetime(start_week))\n",
    "            & (ds[\"date\"] < pd.to_datetime(next_two_week))]\n",
    "    start_week, next_two_week = move_two_weeks(start_week, next_two_week)\n",
    "    if ss.count()[\"id\"] > 0:\n",
    "        ss.to_csv(f\"./out/period-0000{count}.csv\")\n",
    "    count += 1"
   ]
  },
  {
   "cell_type": "markdown",
   "metadata": {},
   "source": [
    "### Loading each period and making adj-matrix for each and saving locally as numpy arrays"
   ]
  },
  {
   "cell_type": "code",
   "execution_count": 10,
   "metadata": {},
   "outputs": [],
   "source": [
    "chunk_directory = \"./out/*.csv\"\n",
    "\n",
    "all_paths = glob.glob(chunk_directory)\n",
    "period = pd.DataFrame(columns=['id', 'date', 'from', 'to', 'cc', 'bcc'])\n",
    "adj_matrix = np.zeros((148, 148), dtype=int)\n",
    "\n"
   ]
  },
  {
   "cell_type": "code",
   "execution_count": 12,
   "metadata": {},
   "outputs": [
    {
     "ename": "KeyError",
     "evalue": "'from'",
     "output_type": "error",
     "traceback": [
      "\u001b[1;31m---------------------------------------------------------------------------\u001b[0m",
      "\u001b[1;31mKeyError\u001b[0m                                  Traceback (most recent call last)",
      "\u001b[1;32md:\\anaconda3\\lib\\site-packages\\pandas\\core\\indexes\\base.py\u001b[0m in \u001b[0;36mget_loc\u001b[1;34m(self, key, method, tolerance)\u001b[0m\n\u001b[0;32m   3628\u001b[0m             \u001b[1;32mtry\u001b[0m\u001b[1;33m:\u001b[0m\u001b[1;33m\u001b[0m\u001b[1;33m\u001b[0m\u001b[0m\n\u001b[1;32m-> 3629\u001b[1;33m                 \u001b[1;32mreturn\u001b[0m \u001b[0mself\u001b[0m\u001b[1;33m.\u001b[0m\u001b[0m_engine\u001b[0m\u001b[1;33m.\u001b[0m\u001b[0mget_loc\u001b[0m\u001b[1;33m(\u001b[0m\u001b[0mcasted_key\u001b[0m\u001b[1;33m)\u001b[0m\u001b[1;33m\u001b[0m\u001b[1;33m\u001b[0m\u001b[0m\n\u001b[0m\u001b[0;32m   3630\u001b[0m             \u001b[1;32mexcept\u001b[0m \u001b[0mKeyError\u001b[0m \u001b[1;32mas\u001b[0m \u001b[0merr\u001b[0m\u001b[1;33m:\u001b[0m\u001b[1;33m\u001b[0m\u001b[1;33m\u001b[0m\u001b[0m\n",
      "\u001b[1;32md:\\anaconda3\\lib\\site-packages\\pandas\\_libs\\index.pyx\u001b[0m in \u001b[0;36mpandas._libs.index.IndexEngine.get_loc\u001b[1;34m()\u001b[0m\n",
      "\u001b[1;32md:\\anaconda3\\lib\\site-packages\\pandas\\_libs\\index.pyx\u001b[0m in \u001b[0;36mpandas._libs.index.IndexEngine.get_loc\u001b[1;34m()\u001b[0m\n",
      "\u001b[1;32mpandas\\_libs\\hashtable_class_helper.pxi\u001b[0m in \u001b[0;36mpandas._libs.hashtable.PyObjectHashTable.get_item\u001b[1;34m()\u001b[0m\n",
      "\u001b[1;32mpandas\\_libs\\hashtable_class_helper.pxi\u001b[0m in \u001b[0;36mpandas._libs.hashtable.PyObjectHashTable.get_item\u001b[1;34m()\u001b[0m\n",
      "\u001b[1;31mKeyError\u001b[0m: 'from'",
      "\nThe above exception was the direct cause of the following exception:\n",
      "\u001b[1;31mKeyError\u001b[0m                                  Traceback (most recent call last)",
      "\u001b[1;32m~\\AppData\\Local\\Temp\\ipykernel_21796\\962135109.py\u001b[0m in \u001b[0;36m<module>\u001b[1;34m\u001b[0m\n\u001b[0;32m      4\u001b[0m     \u001b[1;32mfor\u001b[0m \u001b[0m_\u001b[0m\u001b[1;33m,\u001b[0m \u001b[0mrow\u001b[0m \u001b[1;32min\u001b[0m \u001b[0mdf\u001b[0m\u001b[1;33m.\u001b[0m\u001b[0miterrows\u001b[0m\u001b[1;33m(\u001b[0m\u001b[1;33m)\u001b[0m\u001b[1;33m:\u001b[0m\u001b[1;33m\u001b[0m\u001b[1;33m\u001b[0m\u001b[0m\n\u001b[0;32m      5\u001b[0m \u001b[1;33m\u001b[0m\u001b[0m\n\u001b[1;32m----> 6\u001b[1;33m         \u001b[0mfrom_index\u001b[0m \u001b[1;33m=\u001b[0m \u001b[0memployee_emails\u001b[0m\u001b[1;33m.\u001b[0m\u001b[0mindex\u001b[0m\u001b[1;33m(\u001b[0m\u001b[0mrow\u001b[0m\u001b[1;33m[\u001b[0m\u001b[1;34m'from'\u001b[0m\u001b[1;33m]\u001b[0m\u001b[1;33m)\u001b[0m\u001b[1;33m\u001b[0m\u001b[1;33m\u001b[0m\u001b[0m\n\u001b[0m\u001b[0;32m      7\u001b[0m         \u001b[1;31m# print(from_index)\u001b[0m\u001b[1;33m\u001b[0m\u001b[1;33m\u001b[0m\u001b[0m\n\u001b[0;32m      8\u001b[0m \u001b[1;33m\u001b[0m\u001b[0m\n",
      "\u001b[1;32md:\\anaconda3\\lib\\site-packages\\pandas\\core\\series.py\u001b[0m in \u001b[0;36m__getitem__\u001b[1;34m(self, key)\u001b[0m\n\u001b[0;32m    956\u001b[0m \u001b[1;33m\u001b[0m\u001b[0m\n\u001b[0;32m    957\u001b[0m         \u001b[1;32melif\u001b[0m \u001b[0mkey_is_scalar\u001b[0m\u001b[1;33m:\u001b[0m\u001b[1;33m\u001b[0m\u001b[1;33m\u001b[0m\u001b[0m\n\u001b[1;32m--> 958\u001b[1;33m             \u001b[1;32mreturn\u001b[0m \u001b[0mself\u001b[0m\u001b[1;33m.\u001b[0m\u001b[0m_get_value\u001b[0m\u001b[1;33m(\u001b[0m\u001b[0mkey\u001b[0m\u001b[1;33m)\u001b[0m\u001b[1;33m\u001b[0m\u001b[1;33m\u001b[0m\u001b[0m\n\u001b[0m\u001b[0;32m    959\u001b[0m \u001b[1;33m\u001b[0m\u001b[0m\n\u001b[0;32m    960\u001b[0m         \u001b[1;32mif\u001b[0m \u001b[0mis_hashable\u001b[0m\u001b[1;33m(\u001b[0m\u001b[0mkey\u001b[0m\u001b[1;33m)\u001b[0m\u001b[1;33m:\u001b[0m\u001b[1;33m\u001b[0m\u001b[1;33m\u001b[0m\u001b[0m\n",
      "\u001b[1;32md:\\anaconda3\\lib\\site-packages\\pandas\\core\\series.py\u001b[0m in \u001b[0;36m_get_value\u001b[1;34m(self, label, takeable)\u001b[0m\n\u001b[0;32m   1067\u001b[0m \u001b[1;33m\u001b[0m\u001b[0m\n\u001b[0;32m   1068\u001b[0m         \u001b[1;31m# Similar to Index.get_value, but we do not fall back to positional\u001b[0m\u001b[1;33m\u001b[0m\u001b[1;33m\u001b[0m\u001b[0m\n\u001b[1;32m-> 1069\u001b[1;33m         \u001b[0mloc\u001b[0m \u001b[1;33m=\u001b[0m \u001b[0mself\u001b[0m\u001b[1;33m.\u001b[0m\u001b[0mindex\u001b[0m\u001b[1;33m.\u001b[0m\u001b[0mget_loc\u001b[0m\u001b[1;33m(\u001b[0m\u001b[0mlabel\u001b[0m\u001b[1;33m)\u001b[0m\u001b[1;33m\u001b[0m\u001b[1;33m\u001b[0m\u001b[0m\n\u001b[0m\u001b[0;32m   1070\u001b[0m         \u001b[1;32mreturn\u001b[0m \u001b[0mself\u001b[0m\u001b[1;33m.\u001b[0m\u001b[0mindex\u001b[0m\u001b[1;33m.\u001b[0m\u001b[0m_get_values_for_loc\u001b[0m\u001b[1;33m(\u001b[0m\u001b[0mself\u001b[0m\u001b[1;33m,\u001b[0m \u001b[0mloc\u001b[0m\u001b[1;33m,\u001b[0m \u001b[0mlabel\u001b[0m\u001b[1;33m)\u001b[0m\u001b[1;33m\u001b[0m\u001b[1;33m\u001b[0m\u001b[0m\n\u001b[0;32m   1071\u001b[0m \u001b[1;33m\u001b[0m\u001b[0m\n",
      "\u001b[1;32md:\\anaconda3\\lib\\site-packages\\pandas\\core\\indexes\\base.py\u001b[0m in \u001b[0;36mget_loc\u001b[1;34m(self, key, method, tolerance)\u001b[0m\n\u001b[0;32m   3629\u001b[0m                 \u001b[1;32mreturn\u001b[0m \u001b[0mself\u001b[0m\u001b[1;33m.\u001b[0m\u001b[0m_engine\u001b[0m\u001b[1;33m.\u001b[0m\u001b[0mget_loc\u001b[0m\u001b[1;33m(\u001b[0m\u001b[0mcasted_key\u001b[0m\u001b[1;33m)\u001b[0m\u001b[1;33m\u001b[0m\u001b[1;33m\u001b[0m\u001b[0m\n\u001b[0;32m   3630\u001b[0m             \u001b[1;32mexcept\u001b[0m \u001b[0mKeyError\u001b[0m \u001b[1;32mas\u001b[0m \u001b[0merr\u001b[0m\u001b[1;33m:\u001b[0m\u001b[1;33m\u001b[0m\u001b[1;33m\u001b[0m\u001b[0m\n\u001b[1;32m-> 3631\u001b[1;33m                 \u001b[1;32mraise\u001b[0m \u001b[0mKeyError\u001b[0m\u001b[1;33m(\u001b[0m\u001b[0mkey\u001b[0m\u001b[1;33m)\u001b[0m \u001b[1;32mfrom\u001b[0m \u001b[0merr\u001b[0m\u001b[1;33m\u001b[0m\u001b[1;33m\u001b[0m\u001b[0m\n\u001b[0m\u001b[0;32m   3632\u001b[0m             \u001b[1;32mexcept\u001b[0m \u001b[0mTypeError\u001b[0m\u001b[1;33m:\u001b[0m\u001b[1;33m\u001b[0m\u001b[1;33m\u001b[0m\u001b[0m\n\u001b[0;32m   3633\u001b[0m                 \u001b[1;31m# If we have a listlike key, _check_indexing_error will raise\u001b[0m\u001b[1;33m\u001b[0m\u001b[1;33m\u001b[0m\u001b[0m\n",
      "\u001b[1;31mKeyError\u001b[0m: 'from'"
     ]
    }
   ],
   "source": [
    "for i, k in enumerate(all_paths):\n",
    "    df = pd.read_csv(k)\n",
    "    # print(df[\"from\"].unique())\n",
    "    for _, row in df.iterrows():\n",
    "\n",
    "        from_index = employee_emails.index(row['from'])\n",
    "        # print(from_index)\n",
    "\n",
    "        to_list = row['to'].split(',') if pd.notna(row['to']) else []\n",
    "        # print(to_list)\n",
    "        for to in to_list:\n",
    "            if to in employee_emails:\n",
    "                to_index = employee_emails.index(to)\n",
    "                adj_matrix[from_index, to_index] += 1\n",
    "                adj_matrix[to_index, from_index] += 1\n",
    "\n",
    "        adj_matrix_df = pd.DataFrame(adj_matrix,\n",
    "                                     columns=employee_emails,\n",
    "                                     index=employee_emails)\n",
    "        adj_matrix_df.to_csv(k.replace(\".csv\", \"-adj_matrix.csv\"))\n",
    "\n",
    "        t = adj_matrix_df.to_numpy()\n",
    "        with open(k.replace(\".csv\", \"-adj_matrix.npy\"), 'wb') as f:\n",
    "            np.save(f, t)\n"
   ]
  }
 ],
 "metadata": {
  "kernelspec": {
   "display_name": "base",
   "language": "python",
   "name": "python3"
  },
  "language_info": {
   "codemirror_mode": {
    "name": "ipython",
    "version": 3
   },
   "file_extension": ".py",
   "mimetype": "text/x-python",
   "name": "python",
   "nbconvert_exporter": "python",
   "pygments_lexer": "ipython3",
   "version": "3.9.13"
  },
  "orig_nbformat": 4
 },
 "nbformat": 4,
 "nbformat_minor": 2
}
